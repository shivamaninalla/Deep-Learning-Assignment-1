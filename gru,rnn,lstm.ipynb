{
  "nbformat": 4,
  "nbformat_minor": 0,
  "metadata": {
    "colab": {
      "provenance": [],
      "gpuType": "T4"
    },
    "kernelspec": {
      "name": "python3",
      "display_name": "Python 3"
    },
    "language_info": {
      "name": "python"
    },
    "accelerator": "GPU"
  },
  "cells": [
    {
      "cell_type": "code",
      "source": [
        "import numpy as np\n",
        "from tensorflow.keras.datasets import imdb\n",
        "from tensorflow.keras.models import Sequential\n",
        "from tensorflow.keras.layers import Embedding, GRU, Dense,LSTM , SimpleRNN\n",
        "from tensorflow.keras.preprocessing import sequence\n",
        "\n",
        "# Set the maximum number of words to consider in the reviews\n",
        "max_words = 5000\n",
        "\n",
        "# Load the IMDB dataset\n",
        "(x_train, y_train), (x_test, y_test) = imdb.load_data(num_words=max_words)\n",
        "\n",
        "# Pad the sequences to have the same length\n",
        "max_length = 500\n",
        "x_train = sequence.pad_sequences(x_train, maxlen=max_length)\n",
        "x_test = sequence.pad_sequences(x_test, maxlen=max_length)\n",
        "\n",
        "# Build the GRU-based model\n",
        "model = Sequential()\n",
        "model.add(Embedding(max_words, 100, input_length=max_length))\n",
        "model.add(GRU(128))\n",
        "model.add(Dense(1, activation='sigmoid'))\n",
        "\n",
        "model.compile(loss='binary_crossentropy', optimizer='adam', metrics=['accuracy'])\n",
        "\n",
        "# Train the model\n",
        "batch_size = 128\n",
        "epochs = 5\n",
        "history=model.fit(x_train, y_train, batch_size=batch_size, epochs=epochs, validation_split=0.2)\n",
        "\n",
        "# Evaluate the model on the test set\n",
        "loss, accuracy = model.evaluate(x_test, y_test, batch_size=batch_size)\n",
        "print(\"Test loss:\", loss)\n",
        "print(\"Test accuracy:\", accuracy)"
      ],
      "metadata": {
        "id": "dFvwQTXeb7Sr",
        "colab": {
          "base_uri": "https://localhost:8080/"
        },
        "outputId": "818740c3-50dd-4b18-f9e0-48337842a3f6"
      },
      "execution_count": null,
      "outputs": [
        {
          "output_type": "stream",
          "name": "stdout",
          "text": [
            "Epoch 1/5\n",
            "157/157 [==============================] - 33s 195ms/step - loss: 0.5595 - accuracy: 0.6928 - val_loss: 0.3988 - val_accuracy: 0.8186\n",
            "Epoch 2/5\n",
            "157/157 [==============================] - 20s 125ms/step - loss: 0.2964 - accuracy: 0.8770 - val_loss: 0.3508 - val_accuracy: 0.8634\n",
            "Epoch 3/5\n",
            "157/157 [==============================] - 16s 100ms/step - loss: 0.2537 - accuracy: 0.9006 - val_loss: 0.3218 - val_accuracy: 0.8710\n",
            "Epoch 4/5\n",
            "157/157 [==============================] - 11s 71ms/step - loss: 0.2121 - accuracy: 0.9188 - val_loss: 0.3533 - val_accuracy: 0.8544\n",
            "Epoch 5/5\n",
            "157/157 [==============================] - 10s 62ms/step - loss: 0.1847 - accuracy: 0.9292 - val_loss: 0.3985 - val_accuracy: 0.8496\n",
            "196/196 [==============================] - 2s 12ms/step - loss: 0.3920 - accuracy: 0.8469\n",
            "Test loss: 0.39198243618011475\n",
            "Test accuracy: 0.8468800187110901\n"
          ]
        }
      ]
    },
    {
      "cell_type": "code",
      "source": [
        "history"
      ],
      "metadata": {
        "colab": {
          "base_uri": "https://localhost:8080/"
        },
        "id": "DUXY0OuBfrmw",
        "outputId": "32962c94-1692-4507-c121-e3a8c4a8f7f3"
      },
      "execution_count": null,
      "outputs": [
        {
          "output_type": "execute_result",
          "data": {
            "text/plain": [
              "<keras.src.callbacks.History at 0x7fcf0f9a6560>"
            ]
          },
          "metadata": {},
          "execution_count": 10
        }
      ]
    },
    {
      "cell_type": "code",
      "source": [
        "accuracy=np.array(accuracy)"
      ],
      "metadata": {
        "id": "H2yThcd2gJQW"
      },
      "execution_count": null,
      "outputs": []
    },
    {
      "cell_type": "code",
      "source": [
        "accuracy"
      ],
      "metadata": {
        "colab": {
          "base_uri": "https://localhost:8080/"
        },
        "id": "mOm_Qid3gM5L",
        "outputId": "bda99ea7-120d-438f-adcb-8e500b161523"
      },
      "execution_count": null,
      "outputs": [
        {
          "output_type": "execute_result",
          "data": {
            "text/plain": [
              "array(0.84688002)"
            ]
          },
          "metadata": {},
          "execution_count": 13
        }
      ]
    },
    {
      "cell_type": "code",
      "source": [
        "train_accuracies = history.history['accuracy']"
      ],
      "metadata": {
        "id": "jX4NOfXIgV_H"
      },
      "execution_count": null,
      "outputs": []
    },
    {
      "cell_type": "code",
      "source": [
        "train_accuracies"
      ],
      "metadata": {
        "colab": {
          "base_uri": "https://localhost:8080/"
        },
        "id": "Ke_6gbKbgo8J",
        "outputId": "b656459b-977b-45a4-9c77-e1ad22e0ab22"
      },
      "execution_count": null,
      "outputs": [
        {
          "output_type": "execute_result",
          "data": {
            "text/plain": [
              "[0.692799985408783,\n",
              " 0.87704998254776,\n",
              " 0.900600016117096,\n",
              " 0.9187999963760376,\n",
              " 0.9291999936103821]"
            ]
          },
          "metadata": {},
          "execution_count": 15
        }
      ]
    },
    {
      "cell_type": "code",
      "source": [
        "import numpy as np\n",
        "from tensorflow.keras.datasets import imdb\n",
        "from tensorflow.keras.models import Sequential\n",
        "from tensorflow.keras.layers import Embedding, GRU, Dense,LSTM , SimpleRNN\n",
        "from tensorflow.keras.preprocessing import sequence\n",
        "\n",
        "# Set the maximum number of words to consider in the reviews\n",
        "max_words = 5000\n",
        "\n",
        "# Load the IMDB dataset\n",
        "(x_train, y_train), (x_test, y_test) = imdb.load_data(num_words=max_words)\n",
        "\n",
        "# Pad the sequences to have the same length\n",
        "max_length = 500\n",
        "x_train = sequence.pad_sequences(x_train, maxlen=max_length)\n",
        "x_test = sequence.pad_sequences(x_test, maxlen=max_length)\n",
        "\n",
        "# Build the GRU-based model\n",
        "model = Sequential()\n",
        "model.add(Embedding(max_words, 100, input_length=max_length))\n",
        "model.add(SimpleRNN(128))\n",
        "model.add(Dense(1, activation='sigmoid'))\n",
        "\n",
        "model.compile(loss='binary_crossentropy', optimizer='adam', metrics=['accuracy'])\n",
        "\n",
        "# Train the model\n",
        "batch_size = 128\n",
        "epochs = 5\n",
        "history1=model.fit(x_train, y_train, batch_size=batch_size, epochs=epochs, validation_split=0.2)\n",
        "\n",
        "# Evaluate the model on the test set\n",
        "loss, accuracy1 = model.evaluate(x_test, y_test, batch_size=batch_size)\n",
        "print(\"Test loss:\", loss)\n",
        "print(\"Test accuracy:\", accuracy)"
      ],
      "metadata": {
        "colab": {
          "base_uri": "https://localhost:8080/"
        },
        "id": "QEkLUf30grBu",
        "outputId": "ea9fe2e5-bc26-4b38-dec8-d27150f658e5"
      },
      "execution_count": null,
      "outputs": [
        {
          "output_type": "stream",
          "name": "stdout",
          "text": [
            "Epoch 1/5\n",
            "157/157 [==============================] - 98s 610ms/step - loss: 0.6142 - accuracy: 0.6402 - val_loss: 0.4364 - val_accuracy: 0.8022\n",
            "Epoch 2/5\n",
            "157/157 [==============================] - 88s 563ms/step - loss: 0.4312 - accuracy: 0.8021 - val_loss: 0.5728 - val_accuracy: 0.6968\n",
            "Epoch 3/5\n",
            "157/157 [==============================] - 85s 544ms/step - loss: 0.4903 - accuracy: 0.7624 - val_loss: 0.5253 - val_accuracy: 0.7364\n",
            "Epoch 4/5\n",
            "157/157 [==============================] - 80s 508ms/step - loss: 0.5306 - accuracy: 0.7369 - val_loss: 0.5890 - val_accuracy: 0.6782\n",
            "Epoch 5/5\n",
            "157/157 [==============================] - 77s 489ms/step - loss: 0.4599 - accuracy: 0.7862 - val_loss: 0.5070 - val_accuracy: 0.7686\n",
            "196/196 [==============================] - 8s 42ms/step - loss: 0.4852 - accuracy: 0.7783\n",
            "Test loss: 0.4852069616317749\n",
            "Test accuracy: 0.8468800187110901\n"
          ]
        }
      ]
    },
    {
      "cell_type": "code",
      "source": [
        "train1_accuracies = history1.history['accuracy']"
      ],
      "metadata": {
        "id": "Y1M-UjnvhCNf"
      },
      "execution_count": null,
      "outputs": []
    },
    {
      "cell_type": "code",
      "source": [
        "train1_accuracies"
      ],
      "metadata": {
        "colab": {
          "base_uri": "https://localhost:8080/"
        },
        "id": "pULoyX7Zi631",
        "outputId": "dce5687b-04c9-423c-ca5c-8eef8c7b62f7"
      },
      "execution_count": null,
      "outputs": [
        {
          "output_type": "execute_result",
          "data": {
            "text/plain": [
              "[0.6402000188827515,\n",
              " 0.8021000027656555,\n",
              " 0.7624499797821045,\n",
              " 0.7368999719619751,\n",
              " 0.7862499952316284]"
            ]
          },
          "metadata": {},
          "execution_count": 51
        }
      ]
    },
    {
      "cell_type": "code",
      "source": [
        "print(\"Test loss:\", loss)\n",
        "print(\"Test accuracy:\", accuracy1)"
      ],
      "metadata": {
        "colab": {
          "base_uri": "https://localhost:8080/"
        },
        "id": "senfmBoLjvUr",
        "outputId": "77f1fbfc-5fd8-4fc3-ac73-6b3b253dc1eb"
      },
      "execution_count": null,
      "outputs": [
        {
          "output_type": "stream",
          "name": "stdout",
          "text": [
            "Test loss: 0.4852069616317749\n",
            "Test accuracy: 0.7783200144767761\n"
          ]
        }
      ]
    },
    {
      "cell_type": "code",
      "source": [
        "import numpy as np\n",
        "from tensorflow.keras.datasets import imdb\n",
        "from tensorflow.keras.models import Sequential\n",
        "from tensorflow.keras.layers import Embedding, GRU, Dense,LSTM , SimpleRNN\n",
        "from tensorflow.keras.preprocessing import sequence\n",
        "\n",
        "# Set the maximum number of words to consider in the reviews\n",
        "max_words = 5000\n",
        "\n",
        "# Load the IMDB dataset\n",
        "(x_train, y_train), (x_test, y_test) = imdb.load_data(num_words=max_words)\n",
        "\n",
        "# Pad the sequences to have the same length\n",
        "max_length = 500\n",
        "x_train = sequence.pad_sequences(x_train, maxlen=max_length)\n",
        "x_test = sequence.pad_sequences(x_test, maxlen=max_length)\n",
        "\n",
        "# Build the GRU-based model\n",
        "model = Sequential()\n",
        "model.add(Embedding(max_words, 100, input_length=max_length))\n",
        "model.add(LSTM(128))\n",
        "model.add(Dense(1, activation='sigmoid'))\n",
        "\n",
        "model.compile(loss='binary_crossentropy', optimizer='adam', metrics=['accuracy'])\n",
        "\n",
        "# Train the model\n",
        "batch_size = 128\n",
        "epochs = 5\n",
        "history2=model.fit(x_train, y_train, batch_size=batch_size, epochs=epochs, validation_split=0.2)\n",
        "\n",
        "# Evaluate the model on the test set\n",
        "loss, accuracy = model.evaluate(x_test, y_test, batch_size=batch_size)\n",
        "print(\"Test loss:\", loss)\n",
        "print(\"Test accuracy:\", accuracy)"
      ],
      "metadata": {
        "colab": {
          "base_uri": "https://localhost:8080/"
        },
        "id": "NiLit2alkji7",
        "outputId": "7a31fa3a-c167-43aa-f64c-10c220d79756"
      },
      "execution_count": null,
      "outputs": [
        {
          "output_type": "stream",
          "name": "stdout",
          "text": [
            "Epoch 1/5\n",
            "157/157 [==============================] - 31s 185ms/step - loss: 0.5055 - accuracy: 0.7384 - val_loss: 0.3330 - val_accuracy: 0.8626\n",
            "Epoch 2/5\n",
            "157/157 [==============================] - 17s 110ms/step - loss: 0.2900 - accuracy: 0.8810 - val_loss: 0.3338 - val_accuracy: 0.8602\n",
            "Epoch 3/5\n",
            "157/157 [==============================] - 14s 90ms/step - loss: 0.2249 - accuracy: 0.9140 - val_loss: 0.3446 - val_accuracy: 0.8740\n",
            "Epoch 4/5\n",
            "157/157 [==============================] - 12s 73ms/step - loss: 0.1865 - accuracy: 0.9308 - val_loss: 0.3450 - val_accuracy: 0.8702\n",
            "Epoch 5/5\n",
            "157/157 [==============================] - 11s 67ms/step - loss: 0.1894 - accuracy: 0.9267 - val_loss: 0.3688 - val_accuracy: 0.8626\n",
            "196/196 [==============================] - 3s 14ms/step - loss: 0.3747 - accuracy: 0.8625\n",
            "Test loss: 0.3746620714664459\n",
            "Test accuracy: 0.8624799847602844\n"
          ]
        }
      ]
    },
    {
      "cell_type": "code",
      "source": [
        "train2_accuracies = history2.history['accuracy']"
      ],
      "metadata": {
        "id": "7RI712FBmoHZ"
      },
      "execution_count": null,
      "outputs": []
    },
    {
      "cell_type": "code",
      "source": [
        "train2_accuracies"
      ],
      "metadata": {
        "colab": {
          "base_uri": "https://localhost:8080/"
        },
        "id": "hW3QGxXinS8j",
        "outputId": "3837783c-f2e0-4b4a-ddb3-060208ffab80"
      },
      "execution_count": null,
      "outputs": [
        {
          "output_type": "execute_result",
          "data": {
            "text/plain": [
              "[0.7383999824523926,\n",
              " 0.8810499906539917,\n",
              " 0.9140499830245972,\n",
              " 0.9308000206947327,\n",
              " 0.9266999959945679]"
            ]
          },
          "metadata": {},
          "execution_count": 56
        }
      ]
    },
    {
      "cell_type": "code",
      "source": [
        "import matplotlib.pyplot as plt\n",
        "\n",
        "# Sample data (replace this with your actual data)\n",
        "epochs = [1, 2, 3, 4, 5]\n",
        "gru_accuracy = train_accuracies\n",
        "rnn_accuracy = train1_accuracies\n",
        "lstm_accuracy = train2_accuracies\n",
        "\n",
        "# Create a plot\n",
        "plt.figure(figsize=(10, 6))\n",
        "plt.plot(epochs, gru_accuracy, label='GRU', marker='o')\n",
        "plt.plot(epochs, rnn_accuracy, label='RNN', marker='s')\n",
        "plt.plot(epochs, lstm_accuracy, label='LSTM', marker='^')\n",
        "\n",
        "# Add labels and title\n",
        "plt.xlabel('Epochs')\n",
        "plt.ylabel('Accuracy')\n",
        "plt.title('Accuracy over Epochs for GRU, RNN, and LSTM')\n",
        "\n",
        "# Add legend\n",
        "plt.legend()\n",
        "\n",
        "# Show the plot\n",
        "plt.grid(True)\n",
        "plt.show()\n"
      ],
      "metadata": {
        "colab": {
          "base_uri": "https://localhost:8080/",
          "height": 564
        },
        "id": "AGL4VAG7nWIw",
        "outputId": "3fc007eb-26c6-42dc-a857-35409b773d99"
      },
      "execution_count": null,
      "outputs": [
        {
          "output_type": "display_data",
          "data": {
            "text/plain": [
              "<Figure size 1000x600 with 1 Axes>"
            ],
            "image/png": "[encoded data removed]"
          },
          "metadata": {}
        }
      ]
    },
    {
      "cell_type": "code",
      "source": [],
      "metadata": {
        "id": "yKDUh0wyp_0y"
      },
      "execution_count": null,
      "outputs": []
    }
  ]
}